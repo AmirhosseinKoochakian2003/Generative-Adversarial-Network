{
 "cells": [
  {
   "cell_type": "markdown",
   "id": "f5b774b9",
   "metadata": {},
   "source": [
    "# Explanation"
   ]
  },
  {
   "cell_type": "markdown",
   "id": "7bf13c34",
   "metadata": {},
   "source": [
    "## Introduction"
   ]
  },
  {
   "cell_type": "markdown",
   "id": "35c101c8",
   "metadata": {},
   "source": [
    "After learning about Adversarial Search in Artificial Intelligence and Game Theory, I wanted to dive deeper into its use in modern machine learning. That's when I discovered Generative Adversarial Networks (GANs).\n",
    "\n",
    "A GAN is a type of generative model that has two main parts: a Generative model (G) and a Discriminative model (D). These components interact with each other in a way that resembles a minimax game. The Discriminative model aims to maximize its value function, while the Generative model aims to minimize its value function.\n",
    "\n",
    "The goal of this project is to train a generative model which can produce images."
   ]
  },
  {
   "cell_type": "markdown",
   "id": "4b9819de",
   "metadata": {
    "tags": []
   },
   "source": [
    "## Notations"
   ]
  },
  {
   "cell_type": "markdown",
   "id": "49dbe7c4",
   "metadata": {},
   "source": [
    "$z$ : noise \n",
    "\n",
    "$x$ : input of discriminator\n",
    "\n",
    "$G$ : generator function, $\\theta_g$ : parameters of function G\n",
    "\n",
    "$D$ : discriminator function, $\\theta_d$ : parameters of function D\n",
    "\n",
    "$P_z$ : noise distribution\n",
    "\n",
    "$P_{data}$ : real data distribution\n",
    " \n",
    "$P_g$ : generated data using G distribution\n",
    "\n",
    "$m$ : mini batch size"
   ]
  },
  {
   "cell_type": "markdown",
   "id": "274be797",
   "metadata": {},
   "source": [
    "## Overview of GAN"
   ]
  },
  {
   "cell_type": "markdown",
   "id": "d56a2784",
   "metadata": {},
   "source": [
    "As i mentioned earlier, the GAN consists of two parts. The generative model takes noisy variables $Z$ as input and maps them to the data space. This mapping can be represented by a differentiable function $G(z;\\theta_g) = x$, which can be implemented as a multilayer perceptron with parameters 𝜃𝑔. On the other hand, the discriminative model's task is to determine whether inputs belong to the data distribution or not. It operates like a classifier, labeling inputs based on their likelihood of coming from the data distribution. The function $D(x; \\theta_d)$ represents the probability of $X$ belonging to the data distribution.\n",
    "\n",
    "Now, we can combine these two components. The generator's objective is to map random noisy inputs $Z$ to $X$ in such a way that the discriminator cannot detect that they are generated samples from $P_g$. At the same time, the discriminator aims to learn the most accurate model possible, enabling it to distinguish between real and fake data.\n",
    "\n",
    "After training this model, we will be able to generate data (such as images) that closely resemble real data. "
   ]
  },
  {
   "cell_type": "markdown",
   "id": "071cd74b",
   "metadata": {},
   "source": [
    "## Generator Network"
   ]
  },
  {
   "cell_type": "markdown",
   "id": "bbc338d0",
   "metadata": {},
   "source": [
    "What the generator does is similar to finding a transformation function that minimizes an objective function. In mathematical terms, let's assume that $Z$ is drawn from a distribution called $P_z$. Our goal is to find a transformation function, denoted as $G$, that can accurately estimate the real data distribution called $P_{data}$. Essentially, the generator's objective is to make the discriminator unable to distinguish between real data from $P_{data}$ and fake data from $P_g$.\n",
    "\n",
    "To achieve this, we can define a suitable loss function for the generator using binary cross entropy.\n",
    "\n",
    "$loss_G = -\\frac{1}{m}\\sum_{z} \\log(1 - D(G(z)))$ \n",
    "\n",
    "\n",
    "**Note : Generative loss doesn't have term $\\log(D(x))$ because when we calculate gradient of loss with respect to $\\theta_g$, $\\frac{\\partial D}{\\partial \\theta_g}$ is equal to zero.**"
   ]
  },
  {
   "cell_type": "markdown",
   "id": "3fe153b8",
   "metadata": {},
   "source": [
    "## Discriminator Network"
   ]
  },
  {
   "cell_type": "markdown",
   "id": "e0f3704c",
   "metadata": {},
   "source": [
    "The discriminator is responsible for labeling the inputs by determining if they belong to the data distribution. In simpler terms, the discriminator acts like a sigmoid function that outputs the probability of an input $x$ belonging to the real data distribution $P_{data}$. It is reasonable to use binary cross entropy as the loss function for the discriminator. Therefore one possible loss function for the discriminator might be binary cross entropy. \n",
    "\n",
    "$loss_D = -\\frac{1}{m}\\sum y\\log(\\hat{y}) + (1-y)\\log(1-\\hat{y}) = -\\frac{1}{m}\\sum_{x,z} \\log(D(x)) + \\log(1-D(G(z)))$"
   ]
  },
  {
   "cell_type": "markdown",
   "id": "286ec651",
   "metadata": {},
   "source": [
    "## Theoretical Formulation"
   ]
  },
  {
   "cell_type": "markdown",
   "id": "b50e90c8",
   "metadata": {},
   "source": [
    "In this part, let's dive into the math behind GANs.\n",
    "\n",
    "To begin, we introduce a new loss function that leverages the adversarial nature of the network. In previous sections, the loss functions we defined were based on practical usage. However, the authors of GANs determined a value function using a minimax game, which can be expressed as follows:\n",
    "\n",
    "$V(D,G) = E_{x \\sim P_{data}}[\\log(D(x))] + E_{z \\sim P_{z}}[log(1-D(G(z)))]$\n",
    "\n",
    "So, if we consider D as a maximum node and G as a minimum node, we can view the network as an optimization problem:\n",
    "\n",
    "$min_G max_D V(D,G) = E_{x \\sim P_{data}}[\\log(D(x))] + E_{z \\sim P_{z}}[log(1-D(G(z)))]$\n",
    "\n",
    "This equation effectively demonstrates the competition. It is consistent with our previous definition of loss functions. Although those loss functions were separate, decreasing the loss of G will result in an increase in the loss of D, and vice versa. Summation over all xs and zs and dividing by m can be seen as an expected value."
   ]
  },
  {
   "cell_type": "markdown",
   "id": "69bf5723",
   "metadata": {},
   "source": [
    "### Model Optimization"
   ]
  },
  {
   "cell_type": "markdown",
   "id": "5275b081",
   "metadata": {},
   "source": [
    "In this part, we will discuss two important aspects:\n",
    "\n",
    "Finding the optimal discriminator (D) for a fixed generator (G).\n",
    "The condition for reaching the global minimum, which occurs when the generator's output distribution ($P_{g}$) matches the real data distribution ($P_{data}$).\n",
    "The first aspect focuses on training the discriminator in relation to a fixed generator. We aim to find the discriminator's optimum performance. Let's explore this further.\n",
    "\n",
    "When the generator (G) is fixed, our objective is to maximize the value function by adjusting the discriminator (D).\n",
    "\n",
    "<ul>\n",
    "\n",
    "Value function = $E_{x \\sim P_{data}}[\\log(D(x))] + E_{z \\sim P_{z}}[log(1-D(G(z)))]$ (1)\n",
    "\n",
    "$E[f(X)] = \\int_{x} p(x) f(x) dx$ (2)\n",
    "\n",
    "$^{(1),(2)}=> V(G,D) = \\int_{x} p_{data}(x) log(D(x)) dx + \\int_{z}p_z(z) log(1-D(G(z))) dz$.\n",
    "\n",
    "$G(z)= x$ and $P_g$ and $P_{data}$ come from same domain $=> V(G,D) = \\int_{x} p_{data}(x) log(D(x)) + p_{g}(x) log(1-D(x)) dx$\n",
    "\n",
    "Now, let's differentiate the above equation to find the optimal discriminator (D):\n",
    "    \n",
    "$\\frac{\\partial V(G,D)}{\\partial D} =^{(*)} \\int_{x} \\frac{1}{\\partial D} (p_{data}(x) log(D(x)) + p_{g}(x) log(1-D(x))) dx = \\int_{x} \\frac{p_{data}(x)}{D(x)} - \\frac{p_{g}(x)}{1-D(x)} dx =>$\n",
    "\n",
    "$\\int_{x} \\frac{p_{data}(x)}{D(x)} dx = \\int_{x} \\frac{p_{g}(x)}{1-D(x)} dx =^{(**)} \\frac{p_{data}(x)}{D(x)} = \\frac{p_{g}(x)}{1-D(x)} =>$\n",
    "\n",
    "$D^*(x) = \\frac{p_{data}(x)}{p_{data}(x) + p_{g}(x)}$\n",
    "</ul>\n",
    "\n",
    "\\* : I used [differentiation under the integral sign rule](https://en.wikipedia.org/wiki/Leibniz_integral_rule#General_form:_differentiation_under_the_integral_sign). \n",
    "It's important to note that the integrals we're calculating are over finite intervals. \n",
    "\n",
    "\\** : $\\int_{a}^{x} f(x) dx = \\int_{a}^{x} g(x) dx =>^{\\frac{1}{\\partial x}} f(x) = g(x)$, so for any x, f is equal to g.\n",
    "\n",
    "\n",
    "Now we substitute D* with D in the value function equation. We will use new function $C(G)$ and with using this function we are able to minimize $max V$ based on G.\n",
    "\n",
    "<ul>\n",
    "\n",
    "$C(G) = max_D V(G,D) = E_{x \\sim P_{data}}[\\log(\\frac{p_{data}(x)}{p_{data}(x) + p_{g}(x)})] + E_{x \\sim P_{g}}[log(\\frac{p_{g}(x)}{p_{data}(x) + p_{g}(x)})]$\n",
    "    \n",
    "</ul>\n",
    "\n",
    "The second item relates to how we train the generator. After several iterations, we can assume that the discriminator is close to its optimum, and then we can train the generator to deceive this discriminator. We need to prove that the global minimum of $C(G)$ is achieved if and only if $p_g=p_{data}$.\n",
    "\n",
    "First, let's examine the form of [Jensen–Shannon divergence](https://en.wikipedia.org/wiki/Jensen%E2%80%93Shannon_divergence).\n",
    "\n",
    "<ul>\n",
    "$JS(P1 || P2) = \\frac{1}{2}E_{x \\sim P1}(\\frac{P1}{\\frac{P1 + P2}{2}}) + \\frac{1}{2}E_{x \\sim P2}(\\frac{P2}{\\frac{P1 + P2}{2}})$\n",
    "</ul>\n",
    "\n",
    "    \n",
    "So we can express $C(G)$ in a form that resembles the Jenson-Shannon divergence.\n",
    "\n",
    "<ul>\n",
    "$\\log(a+b) = \\log(a) + \\log(b) =>$    \n",
    "    \n",
    "$C(G) = E_{x \\sim P_{data}}[\\log(\\frac{p_{data}(x)}{\\frac{p_{data}(x) + p_{g}(x)}{2}})] + E_{x \\sim P_{g}}[log(\\frac{p_{g}(x)}{\\frac{p_{data}(x) + p_{g}(x)}{2}})] - 2\\log(2) = 2JS(P_{data} || p_{g}) - 2\\log(2)$\n",
    "</ul> \n",
    "\n",
    "Since the Jensen-Shannon divergence between two distributions is non-negative and zero only when the two distributions are equal, $C(G)$ achieve its global minimum which is $-2\\log(2)$ when $P_{data} = P_{g}$. In other words, $P_{g}$ and $P_{data}$ should be as close to each other as possible. The optimal generator G is thus one that which is able to mimic pdata to model a compelling model distribution $p_{g}$."
   ]
  },
  {
   "cell_type": "markdown",
   "id": "107d898c",
   "metadata": {},
   "source": [
    "## Overview"
   ]
  },
  {
   "cell_type": "markdown",
   "id": "2895b234",
   "metadata": {},
   "source": [
    "With this theoretical intuition, I am going to implement a generator for the [MNIST dataset](https://www.tensorflow.org/datasets/catalog/mnist). The dataset is suitable for a faster training process, and each image is a 28x28 grayscale image.\n",
    "\n",
    "The discriminator is a simple deep classifier that takes real and fake images as inputs and tries to distinguish between them. In order to prevent extreme extrapolation behavior in the discriminator, i replaced labels 1 with a noisy random value less than 1.\n",
    "\n",
    "The generator takes noisy inputs and generates fake images. I used transposed convolutions to expand dimensions. \n",
    "\n",
    "Some tips for improving the GANs can be found [here](https://machinelearningmastery.com/how-to-train-stable-generative-adversarial-networks/).\n",
    "\n",
    "**NOTE :** Training a generative model can be challenging. I only trained the model for 120 epochs, which is not sufficient for it to fully converge to an optimal state. However, even after 120 epochs, the model managed to generate reasonably good images and could occasionally deceive the discriminator (most of the generated images had a probability of being classified as real greater than 0.5)."
   ]
  },
  {
   "cell_type": "markdown",
   "id": "5e1c84ca",
   "metadata": {},
   "source": [
    "# Implementation"
   ]
  },
  {
   "cell_type": "markdown",
   "id": "6208512f",
   "metadata": {},
   "source": [
    "## Packages"
   ]
  },
  {
   "cell_type": "code",
   "execution_count": 1,
   "id": "7ed1d0eb",
   "metadata": {
    "execution": {
     "iopub.execute_input": "2023-12-25T16:53:03.904576Z",
     "iopub.status.busy": "2023-12-25T16:53:03.904204Z",
     "iopub.status.idle": "2023-12-25T16:53:07.872137Z",
     "shell.execute_reply": "2023-12-25T16:53:07.871347Z",
     "shell.execute_reply.started": "2023-12-25T16:53:03.904544Z"
    },
    "tags": []
   },
   "outputs": [
    {
     "name": "stderr",
     "output_type": "stream",
     "text": [
      "/opt/conda/lib/python3.10/site-packages/scipy/__init__.py:146: UserWarning: A NumPy version >=1.16.5 and <1.23.0 is required for this version of SciPy (detected version 1.24.3\n",
      "  warnings.warn(f\"A NumPy version >={np_minversion} and <{np_maxversion}\"\n"
     ]
    }
   ],
   "source": [
    "import tensorflow as tf\n",
    "import tensorflow_datasets as tfds\n",
    "import matplotlib.pyplot as plt\n",
    "import numpy as np\n",
    "from tensorflow.keras.models import Sequential\n",
    "from tensorflow.keras.layers import Conv2D, Dense, Flatten, LeakyReLU, ReLU,Dropout, Reshape, BatchNormalization, Conv2DTranspose\n",
    "from tensorflow.keras.optimizers import Adam\n",
    "from tensorflow.keras.losses import BinaryCrossentropy\n",
    "from tensorflow.keras.models import Model"
   ]
  },
  {
   "cell_type": "markdown",
   "id": "f76d7b99",
   "metadata": {},
   "source": [
    "## Hyper Parameters"
   ]
  },
  {
   "cell_type": "code",
   "execution_count": 2,
   "id": "6d4f31d1",
   "metadata": {
    "execution": {
     "iopub.execute_input": "2023-12-25T16:53:07.874099Z",
     "iopub.status.busy": "2023-12-25T16:53:07.873581Z",
     "iopub.status.idle": "2023-12-25T16:53:07.878433Z",
     "shell.execute_reply": "2023-12-25T16:53:07.877385Z",
     "shell.execute_reply.started": "2023-12-25T16:53:07.874070Z"
    },
    "tags": []
   },
   "outputs": [],
   "source": [
    "BATCH_SIZE = 256\n",
    "EPOCHS = 120\n",
    "NOISE_DIM = 100"
   ]
  },
  {
   "cell_type": "markdown",
   "id": "675f6f19",
   "metadata": {},
   "source": [
    "## GPU"
   ]
  },
  {
   "cell_type": "code",
   "execution_count": 3,
   "id": "f16f6e40",
   "metadata": {
    "execution": {
     "iopub.execute_input": "2023-12-25T16:53:07.879923Z",
     "iopub.status.busy": "2023-12-25T16:53:07.879653Z",
     "iopub.status.idle": "2023-12-25T16:53:07.889766Z",
     "shell.execute_reply": "2023-12-25T16:53:07.888990Z",
     "shell.execute_reply.started": "2023-12-25T16:53:07.879899Z"
    },
    "tags": []
   },
   "outputs": [],
   "source": [
    "# # Bringing in tensorflow\n",
    "# import tensorflow as tf\n",
    "# gpus = tf.config.experimental.list_physical_devices('GPU')\n",
    "# for gpu in gpus: \n",
    "#     tf.config.experimental.set_memory_growth(gpu, True)\n",
    "# gpus"
   ]
  },
  {
   "cell_type": "markdown",
   "id": "bd613596",
   "metadata": {},
   "source": [
    "## Importing the DataSet"
   ]
  },
  {
   "cell_type": "code",
   "execution_count": 4,
   "id": "52e06b13",
   "metadata": {
    "execution": {
     "iopub.execute_input": "2023-12-25T16:53:07.892487Z",
     "iopub.status.busy": "2023-12-25T16:53:07.892134Z",
     "iopub.status.idle": "2023-12-25T16:53:09.215813Z",
     "shell.execute_reply": "2023-12-25T16:53:09.215020Z",
     "shell.execute_reply.started": "2023-12-25T16:53:07.892454Z"
    },
    "tags": []
   },
   "outputs": [],
   "source": [
    "dataset = tfds.load('mnist', split='train')"
   ]
  },
  {
   "cell_type": "code",
   "execution_count": 5,
   "id": "238a1788",
   "metadata": {
    "execution": {
     "iopub.execute_input": "2023-12-25T16:53:09.217619Z",
     "iopub.status.busy": "2023-12-25T16:53:09.217248Z",
     "iopub.status.idle": "2023-12-25T16:53:09.225227Z",
     "shell.execute_reply": "2023-12-25T16:53:09.224380Z",
     "shell.execute_reply.started": "2023-12-25T16:53:09.217585Z"
    },
    "tags": []
   },
   "outputs": [
    {
     "data": {
      "text/plain": [
       "<_PrefetchDataset element_spec={'image': TensorSpec(shape=(28, 28, 1), dtype=tf.uint8, name=None), 'label': TensorSpec(shape=(), dtype=tf.int64, name=None)}>"
      ]
     },
     "execution_count": 5,
     "metadata": {},
     "output_type": "execute_result"
    }
   ],
   "source": [
    "dataset"
   ]
  },
  {
   "cell_type": "markdown",
   "id": "1873f6de",
   "metadata": {},
   "source": [
    "## Visualizing"
   ]
  },
  {
   "cell_type": "code",
   "execution_count": 6,
   "id": "af2c9e02",
   "metadata": {
    "execution": {
     "iopub.execute_input": "2023-12-25T16:53:09.226692Z",
     "iopub.status.busy": "2023-12-25T16:53:09.226402Z",
     "iopub.status.idle": "2023-12-25T16:53:09.262167Z",
     "shell.execute_reply": "2023-12-25T16:53:09.261468Z",
     "shell.execute_reply.started": "2023-12-25T16:53:09.226667Z"
    },
    "tags": []
   },
   "outputs": [],
   "source": [
    "iterator = dataset.as_numpy_iterator()"
   ]
  },
  {
   "cell_type": "code",
   "execution_count": 7,
   "id": "58ab7631",
   "metadata": {
    "execution": {
     "iopub.execute_input": "2023-12-25T16:53:09.263686Z",
     "iopub.status.busy": "2023-12-25T16:53:09.263349Z",
     "iopub.status.idle": "2023-12-25T16:53:10.213233Z",
     "shell.execute_reply": "2023-12-25T16:53:10.212265Z",
     "shell.execute_reply.started": "2023-12-25T16:53:09.263653Z"
    },
    "tags": []
   },
   "outputs": [
    {
     "data": {
      "image/png": "[encoded data removed]",
      "text/plain": [
       "<Figure size 1400x1400 with 6 Axes>"
      ]
     },
     "metadata": {},
     "output_type": "display_data"
    }
   ],
   "source": [
    "figure, axis = plt.subplots(ncols=6, figsize=(14,14))\n",
    "\n",
    "for i in range(6) :\n",
    "    sample = iterator.next()\n",
    "    axis[i].imshow(np.squeeze(sample['image'])) # remove axes of length one from image"
   ]
  },
  {
   "cell_type": "markdown",
   "id": "edf44d09",
   "metadata": {},
   "source": [
    "## Scaling and Loading the Batches"
   ]
  },
  {
   "cell_type": "code",
   "execution_count": 8,
   "id": "2308afa0",
   "metadata": {
    "execution": {
     "iopub.execute_input": "2023-12-25T16:53:10.214880Z",
     "iopub.status.busy": "2023-12-25T16:53:10.214511Z",
     "iopub.status.idle": "2023-12-25T16:53:10.220096Z",
     "shell.execute_reply": "2023-12-25T16:53:10.219055Z",
     "shell.execute_reply.started": "2023-12-25T16:53:10.214843Z"
    },
    "tags": []
   },
   "outputs": [],
   "source": [
    "def scale_image(sample) :\n",
    "    return (tf.cast(sample['image'], tf.float32) - 127.5) / 127.5 # scaling to the range of the tanh activation function [-1, 1]"
   ]
  },
  {
   "cell_type": "code",
   "execution_count": 9,
   "id": "f2acf9f5",
   "metadata": {
    "execution": {
     "iopub.execute_input": "2023-12-25T16:53:10.221671Z",
     "iopub.status.busy": "2023-12-25T16:53:10.221342Z",
     "iopub.status.idle": "2023-12-25T16:53:10.279151Z",
     "shell.execute_reply": "2023-12-25T16:53:10.278457Z",
     "shell.execute_reply.started": "2023-12-25T16:53:10.221639Z"
    },
    "tags": []
   },
   "outputs": [],
   "source": [
    "# running the dataset through scale_image function in order to scale all images in the dataset\n",
    "scaled_dataset = dataset.map(scale_image)"
   ]
  },
  {
   "cell_type": "code",
   "execution_count": 10,
   "id": "bb8c631d",
   "metadata": {
    "execution": {
     "iopub.execute_input": "2023-12-25T16:53:10.282731Z",
     "iopub.status.busy": "2023-12-25T16:53:10.282466Z",
     "iopub.status.idle": "2023-12-25T16:53:10.296274Z",
     "shell.execute_reply": "2023-12-25T16:53:10.295260Z",
     "shell.execute_reply.started": "2023-12-25T16:53:10.282707Z"
    },
    "tags": []
   },
   "outputs": [],
   "source": [
    "scaled_dataset = scaled_dataset.cache() # caching the elements of the dataset for faster retrieval\n",
    "scaled_dataset = scaled_dataset.shuffle(60000)\n",
    "scaled_dataset = scaled_dataset.batch(BATCH_SIZE)\n",
    "scaled_dataset = scaled_dataset.prefetch(64) # 64 batches should be loaded asynchronously while the current batch is being processed"
   ]
  },
  {
   "cell_type": "code",
   "execution_count": 11,
   "id": "0c6a8ddd",
   "metadata": {
    "execution": {
     "iopub.execute_input": "2023-12-25T16:53:10.297684Z",
     "iopub.status.busy": "2023-12-25T16:53:10.297415Z",
     "iopub.status.idle": "2023-12-25T16:53:13.175019Z",
     "shell.execute_reply": "2023-12-25T16:53:13.174000Z",
     "shell.execute_reply.started": "2023-12-25T16:53:10.297661Z"
    },
    "tags": []
   },
   "outputs": [
    {
     "data": {
      "text/plain": [
       "(256, 28, 28, 1)"
      ]
     },
     "execution_count": 11,
     "metadata": {},
     "output_type": "execute_result"
    }
   ],
   "source": [
    "scaled_dataset.as_numpy_iterator().next().shape"
   ]
  },
  {
   "cell_type": "markdown",
   "id": "cdf58f6b",
   "metadata": {},
   "source": [
    "## Neural Network"
   ]
  },
  {
   "cell_type": "markdown",
   "id": "5bcceb8c",
   "metadata": {
    "tags": []
   },
   "source": [
    "### Generator"
   ]
  },
  {
   "cell_type": "code",
   "execution_count": 12,
   "id": "01394aed",
   "metadata": {
    "execution": {
     "iopub.execute_input": "2023-12-25T16:53:13.176580Z",
     "iopub.status.busy": "2023-12-25T16:53:13.176249Z",
     "iopub.status.idle": "2023-12-25T16:53:13.184312Z",
     "shell.execute_reply": "2023-12-25T16:53:13.183308Z",
     "shell.execute_reply.started": "2023-12-25T16:53:13.176552Z"
    },
    "tags": []
   },
   "outputs": [],
   "source": [
    "def get_generator() :\n",
    "    model = Sequential()\n",
    "\n",
    "    model.add(Dense(7*7*256, use_bias=False, input_dim=NOISE_DIM))\n",
    "    model.add(BatchNormalization())\n",
    "    model.add(ReLU())\n",
    "    model.add(Reshape((7, 7, 256)))\n",
    "\n",
    "    model.add(Conv2DTranspose(128, (5, 5), strides=(1, 1), padding='same', use_bias=False))\n",
    "    model.add(BatchNormalization())\n",
    "    model.add(ReLU())\n",
    "\n",
    "    model.add(Conv2DTranspose(64, (5, 5), strides=(2, 2), padding='same', use_bias=False))\n",
    "    model.add(BatchNormalization())\n",
    "    model.add(ReLU())\n",
    "\n",
    "    model.add(Conv2DTranspose(1, (5, 5), strides=(2, 2), padding='same', use_bias=False, activation='tanh'))\n",
    "    \n",
    "    return model"
   ]
  },
  {
   "cell_type": "code",
   "execution_count": 13,
   "id": "8e0a19b1",
   "metadata": {
    "execution": {
     "iopub.execute_input": "2023-12-25T16:53:13.185749Z",
     "iopub.status.busy": "2023-12-25T16:53:13.185490Z",
     "iopub.status.idle": "2023-12-25T16:53:13.338427Z",
     "shell.execute_reply": "2023-12-25T16:53:13.337662Z",
     "shell.execute_reply.started": "2023-12-25T16:53:13.185725Z"
    },
    "tags": []
   },
   "outputs": [],
   "source": [
    "generator_model = get_generator()"
   ]
  },
  {
   "cell_type": "code",
   "execution_count": 14,
   "id": "b28ff615",
   "metadata": {
    "execution": {
     "iopub.execute_input": "2023-12-25T16:53:13.339782Z",
     "iopub.status.busy": "2023-12-25T16:53:13.339503Z",
     "iopub.status.idle": "2023-12-25T16:53:13.379525Z",
     "shell.execute_reply": "2023-12-25T16:53:13.378640Z",
     "shell.execute_reply.started": "2023-12-25T16:53:13.339757Z"
    },
    "scrolled": true,
    "tags": []
   },
   "outputs": [
    {
     "name": "stdout",
     "output_type": "stream",
     "text": [
      "Model: \"sequential\"\n",
      "_________________________________________________________________\n",
      " Layer (type)                Output Shape              Param #   \n",
      "=================================================================\n",
      " dense (Dense)               (None, 12544)             1254400   \n",
      "                                                                 \n",
      " batch_normalization (Batch  (None, 12544)             50176     \n",
      " Normalization)                                                  \n",
      "                                                                 \n",
      " re_lu (ReLU)                (None, 12544)             0         \n",
      "                                                                 \n",
      " reshape (Reshape)           (None, 7, 7, 256)         0         \n",
      "                                                                 \n",
      " conv2d_transpose (Conv2DTr  (None, 7, 7, 128)         819200    \n",
      " anspose)                                                        \n",
      "                                                                 \n",
      " batch_normalization_1 (Bat  (None, 7, 7, 128)         512       \n",
      " chNormalization)                                                \n",
      "                                                                 \n",
      " re_lu_1 (ReLU)              (None, 7, 7, 128)         0         \n",
      "                                                                 \n",
      " conv2d_transpose_1 (Conv2D  (None, 14, 14, 64)        204800    \n",
      " Transpose)                                                      \n",
      "                                                                 \n",
      " batch_normalization_2 (Bat  (None, 14, 14, 64)        256       \n",
      " chNormalization)                                                \n",
      "                                                                 \n",
      " re_lu_2 (ReLU)              (None, 14, 14, 64)        0         \n",
      "                                                                 \n",
      " conv2d_transpose_2 (Conv2D  (None, 28, 28, 1)         1600      \n",
      " Transpose)                                                      \n",
      "                                                                 \n",
      "=================================================================\n",
      "Total params: 2330944 (8.89 MB)\n",
      "Trainable params: 2305472 (8.79 MB)\n",
      "Non-trainable params: 25472 (99.50 KB)\n",
      "_________________________________________________________________\n"
     ]
    }
   ],
   "source": [
    "generator_model.summary()"
   ]
  },
  {
   "cell_type": "markdown",
   "id": "cf549f0c",
   "metadata": {},
   "source": [
    "### Discriminator"
   ]
  },
  {
   "cell_type": "code",
   "execution_count": 15,
   "id": "506b7b9d",
   "metadata": {
    "execution": {
     "iopub.execute_input": "2023-12-25T16:53:13.380882Z",
     "iopub.status.busy": "2023-12-25T16:53:13.380610Z",
     "iopub.status.idle": "2023-12-25T16:53:13.388276Z",
     "shell.execute_reply": "2023-12-25T16:53:13.387376Z",
     "shell.execute_reply.started": "2023-12-25T16:53:13.380851Z"
    },
    "tags": []
   },
   "outputs": [],
   "source": [
    "def get_discriminator(): \n",
    "    model = Sequential()\n",
    "\n",
    "    model.add(Conv2D(64, 5, strides=(2, 2), padding='same',input_shape = (28,28,1)))\n",
    "    model.add(LeakyReLU(0.2))\n",
    "    model.add(BatchNormalization())\n",
    "    model.add(Dropout(0.5))\n",
    "\n",
    "    model.add(Conv2D(128, 5, strides=(2, 2), padding='same'))\n",
    "    model.add(LeakyReLU(0.2))\n",
    "    model.add(BatchNormalization())\n",
    "    model.add(Dropout(0.5))\n",
    "    \n",
    "    model.add(Conv2D(256, 5, strides=(2, 2), padding='same'))\n",
    "    model.add(LeakyReLU(0.2))\n",
    "    model.add(BatchNormalization())\n",
    "    model.add(Dropout(0.5))\n",
    "\n",
    "    model.add(Flatten())\n",
    "    model.add(Dense(1))\n",
    "    \n",
    "    return model"
   ]
  },
  {
   "cell_type": "code",
   "execution_count": 16,
   "id": "0061caab",
   "metadata": {
    "execution": {
     "iopub.execute_input": "2023-12-25T16:53:13.389772Z",
     "iopub.status.busy": "2023-12-25T16:53:13.389448Z",
     "iopub.status.idle": "2023-12-25T16:53:13.507573Z",
     "shell.execute_reply": "2023-12-25T16:53:13.506824Z",
     "shell.execute_reply.started": "2023-12-25T16:53:13.389740Z"
    },
    "tags": []
   },
   "outputs": [],
   "source": [
    "discriminator_model = get_discriminator()"
   ]
  },
  {
   "cell_type": "code",
   "execution_count": 17,
   "id": "b321688e",
   "metadata": {
    "execution": {
     "iopub.execute_input": "2023-12-25T16:53:13.508898Z",
     "iopub.status.busy": "2023-12-25T16:53:13.508619Z",
     "iopub.status.idle": "2023-12-25T16:53:13.544395Z",
     "shell.execute_reply": "2023-12-25T16:53:13.542360Z",
     "shell.execute_reply.started": "2023-12-25T16:53:13.508872Z"
    },
    "scrolled": true,
    "tags": []
   },
   "outputs": [
    {
     "name": "stdout",
     "output_type": "stream",
     "text": [
      "Model: \"sequential_1\"\n",
      "_________________________________________________________________\n",
      " Layer (type)                Output Shape              Param #   \n",
      "=================================================================\n",
      " conv2d (Conv2D)             (None, 14, 14, 64)        1664      \n",
      "                                                                 \n",
      " leaky_re_lu (LeakyReLU)     (None, 14, 14, 64)        0         \n",
      "                                                                 \n",
      " batch_normalization_3 (Bat  (None, 14, 14, 64)        256       \n",
      " chNormalization)                                                \n",
      "                                                                 \n",
      " dropout (Dropout)           (None, 14, 14, 64)        0         \n",
      "                                                                 \n",
      " conv2d_1 (Conv2D)           (None, 7, 7, 128)         204928    \n",
      "                                                                 \n",
      " leaky_re_lu_1 (LeakyReLU)   (None, 7, 7, 128)         0         \n",
      "                                                                 \n",
      " batch_normalization_4 (Bat  (None, 7, 7, 128)         512       \n",
      " chNormalization)                                                \n",
      "                                                                 \n",
      " dropout_1 (Dropout)         (None, 7, 7, 128)         0         \n",
      "                                                                 \n",
      " conv2d_2 (Conv2D)           (None, 4, 4, 256)         819456    \n",
      "                                                                 \n",
      " leaky_re_lu_2 (LeakyReLU)   (None, 4, 4, 256)         0         \n",
      "                                                                 \n",
      " batch_normalization_5 (Bat  (None, 4, 4, 256)         1024      \n",
      " chNormalization)                                                \n",
      "                                                                 \n",
      " dropout_2 (Dropout)         (None, 4, 4, 256)         0         \n",
      "                                                                 \n",
      " flatten (Flatten)           (None, 4096)              0         \n",
      "                                                                 \n",
      " dense_1 (Dense)             (None, 1)                 4097      \n",
      "                                                                 \n",
      "=================================================================\n",
      "Total params: 1031937 (3.94 MB)\n",
      "Trainable params: 1031041 (3.93 MB)\n",
      "Non-trainable params: 896 (3.50 KB)\n",
      "_________________________________________________________________\n"
     ]
    }
   ],
   "source": [
    "discriminator_model.summary()"
   ]
  },
  {
   "cell_type": "markdown",
   "id": "02b68f84",
   "metadata": {},
   "source": [
    "## Training Loop"
   ]
  },
  {
   "cell_type": "markdown",
   "id": "754085b7",
   "metadata": {},
   "source": [
    "### Optimizers"
   ]
  },
  {
   "cell_type": "code",
   "execution_count": 18,
   "id": "ad7d96ef",
   "metadata": {
    "execution": {
     "iopub.execute_input": "2023-12-25T16:53:13.545847Z",
     "iopub.status.busy": "2023-12-25T16:53:13.545517Z",
     "iopub.status.idle": "2023-12-25T16:53:13.556666Z",
     "shell.execute_reply": "2023-12-25T16:53:13.555758Z",
     "shell.execute_reply.started": "2023-12-25T16:53:13.545813Z"
    },
    "tags": []
   },
   "outputs": [],
   "source": [
    "generator_optimizer = Adam(learning_rate=0.0001, beta_1=0.22)\n",
    "discriminator_optimizer = Adam(learning_rate=0.0001, beta_1=0.42)"
   ]
  },
  {
   "cell_type": "markdown",
   "id": "5aa9713e",
   "metadata": {},
   "source": [
    "### Loss functions"
   ]
  },
  {
   "cell_type": "code",
   "execution_count": 19,
   "id": "8b9d3530",
   "metadata": {
    "execution": {
     "iopub.execute_input": "2023-12-25T16:53:13.558084Z",
     "iopub.status.busy": "2023-12-25T16:53:13.557816Z",
     "iopub.status.idle": "2023-12-25T16:53:13.563576Z",
     "shell.execute_reply": "2023-12-25T16:53:13.562619Z",
     "shell.execute_reply.started": "2023-12-25T16:53:13.558060Z"
    },
    "tags": []
   },
   "outputs": [],
   "source": [
    "generator_loss = BinaryCrossentropy(from_logits=True)\n",
    "discriminator_loss = BinaryCrossentropy(from_logits=True)"
   ]
  },
  {
   "cell_type": "markdown",
   "id": "7787f7d6",
   "metadata": {},
   "source": [
    "### Costum Model"
   ]
  },
  {
   "cell_type": "code",
   "execution_count": 20,
   "id": "f1dfeedb",
   "metadata": {
    "execution": {
     "iopub.execute_input": "2023-12-25T16:53:13.565226Z",
     "iopub.status.busy": "2023-12-25T16:53:13.564962Z",
     "iopub.status.idle": "2023-12-25T16:53:13.577827Z",
     "shell.execute_reply": "2023-12-25T16:53:13.576895Z",
     "shell.execute_reply.started": "2023-12-25T16:53:13.565202Z"
    },
    "tags": []
   },
   "outputs": [],
   "source": [
    "class GAN(Model) :\n",
    "    def __init__(self, generator, discriminator, *args, **kwargs) :\n",
    "        super().__init__(*args, **kwargs)\n",
    "        self.generator = generator\n",
    "        self.discriminator = discriminator\n",
    "    \n",
    "    def compile(self, generator_optimizer, discriminator_optimizer, generator_loss, discriminator_loss, *args, **kwargs) :\n",
    "        super().compile(*args, **kwargs)\n",
    "        self.generator_optimizer = generator_optimizer\n",
    "        self.discriminator_optimizer = discriminator_optimizer\n",
    "        self.generator_loss = generator_loss\n",
    "        self.discriminator_loss = discriminator_loss\n",
    "        \n",
    "    def train_step(self, real_images) :\n",
    "        \n",
    "        with tf.GradientTape() as discriminator_tape, tf.GradientTape() as generator_tape :\n",
    "            fake_images = self.generator(tf.random.normal((BATCH_SIZE, NOISE_DIM, 1)), training=True)\n",
    "            \n",
    "            yhat_real_images = self.discriminator(real_images, training=True)\n",
    "            yhat_fake_images = self.discriminator(fake_images, training=True)\n",
    "            \n",
    "            yhat = tf.concat([yhat_fake_images, yhat_real_images], axis=0)\n",
    "            y = tf.concat([tf.zeros_like(yhat_fake_images), tf.ones_like(yhat_real_images)], axis=0)\n",
    "\n",
    "            \n",
    "            noise_real_images = -0.17 * tf.random.normal(tf.shape(yhat_real_images))\n",
    "            noise_fake_images = tf.zeros_like(yhat_fake_images)\n",
    "            y += tf.concat([noise_fake_images, noise_real_images], axis=0)\n",
    "            \n",
    "            discriminator_loss = self.discriminator_loss(y, yhat)\n",
    "            generator_loss = self.generator_loss(tf.ones_like(yhat_fake_images), yhat_fake_images) \n",
    "\n",
    "            \n",
    "        discriminator_gradients = discriminator_tape.gradient(discriminator_loss, self.discriminator.trainable_variables)\n",
    "        generator_gradients = generator_tape.gradient(generator_loss, self.generator.trainable_variables)\n",
    "       \n",
    "        self.discriminator_optimizer.apply_gradients(zip(discriminator_gradients, self.discriminator.trainable_variables))\n",
    "        self.generator_optimizer.apply_gradients(zip(generator_gradients, self.generator.trainable_variables))\n",
    "        \n",
    "        return {'generator_loss':generator_loss, 'discriminator_loss':discriminator_loss}"
   ]
  },
  {
   "cell_type": "code",
   "execution_count": 21,
   "id": "8218680a",
   "metadata": {
    "execution": {
     "iopub.execute_input": "2023-12-25T16:53:13.579237Z",
     "iopub.status.busy": "2023-12-25T16:53:13.578949Z",
     "iopub.status.idle": "2023-12-25T16:53:13.594208Z",
     "shell.execute_reply": "2023-12-25T16:53:13.593461Z",
     "shell.execute_reply.started": "2023-12-25T16:53:13.579211Z"
    },
    "tags": []
   },
   "outputs": [],
   "source": [
    "GAN_model = GAN(generator_model, discriminator_model)"
   ]
  },
  {
   "cell_type": "code",
   "execution_count": 22,
   "id": "f176027d",
   "metadata": {
    "execution": {
     "iopub.execute_input": "2023-12-25T16:53:13.595648Z",
     "iopub.status.busy": "2023-12-25T16:53:13.595111Z",
     "iopub.status.idle": "2023-12-25T16:53:13.614518Z",
     "shell.execute_reply": "2023-12-25T16:53:13.613655Z",
     "shell.execute_reply.started": "2023-12-25T16:53:13.595614Z"
    },
    "tags": []
   },
   "outputs": [],
   "source": [
    "GAN_model.compile(generator_optimizer, discriminator_optimizer, generator_loss, discriminator_loss)"
   ]
  },
  {
   "cell_type": "markdown",
   "id": "840ab035",
   "metadata": {},
   "source": [
    "## Training"
   ]
  },
  {
   "cell_type": "code",
   "execution_count": 23,
   "id": "aa4e6196",
   "metadata": {
    "execution": {
     "iopub.execute_input": "2023-12-25T16:53:13.616283Z",
     "iopub.status.busy": "2023-12-25T16:53:13.615750Z",
     "iopub.status.idle": "2023-12-25T17:13:03.585596Z",
     "shell.execute_reply": "2023-12-25T17:13:03.584616Z",
     "shell.execute_reply.started": "2023-12-25T16:53:13.616249Z"
    },
    "tags": []
   },
   "outputs": [
    {
     "name": "stdout",
     "output_type": "stream",
     "text": [
      "Epoch 1/120\n"
     ]
    },
    {
     "name": "stderr",
     "output_type": "stream",
     "text": [
      "2023-12-25 16:53:15.918967: E tensorflow/core/grappler/optimizers/meta_optimizer.cc:954] layout failed: INVALID_ARGUMENT: Size of values 0 does not match size of permutation 4 @ fanin shape insequential_1/dropout/dropout/SelectV2-2-TransposeNHWCToNCHW-LayoutOptimizer\n"
     ]
    },
    {
     "name": "stdout",
     "output_type": "stream",
     "text": [
      "235/235 [==============================] - 16s 42ms/step - generator_loss: 2.8524 - discriminator_loss: 0.2492\n",
      "Epoch 2/120\n",
      "235/235 [==============================] - 10s 42ms/step - generator_loss: 4.4199 - discriminator_loss: 0.0850\n",
      "Epoch 3/120\n",
      "235/235 [==============================] - 10s 42ms/step - generator_loss: 4.9473 - discriminator_loss: 0.1843\n",
      "Epoch 4/120\n",
      "235/235 [==============================] - 10s 42ms/step - generator_loss: 3.5653 - discriminator_loss: 0.3171\n",
      "Epoch 5/120\n",
      "235/235 [==============================] - 10s 42ms/step - generator_loss: 2.6760 - discriminator_loss: 0.4198\n",
      "Epoch 6/120\n",
      "235/235 [==============================] - 10s 42ms/step - generator_loss: 2.2810 - discriminator_loss: 0.4492\n",
      "Epoch 7/120\n",
      "235/235 [==============================] - 10s 42ms/step - generator_loss: 2.0289 - discriminator_loss: 0.4640\n",
      "Epoch 8/120\n",
      "235/235 [==============================] - 10s 42ms/step - generator_loss: 1.8068 - discriminator_loss: 0.4928\n",
      "Epoch 9/120\n",
      "235/235 [==============================] - 10s 42ms/step - generator_loss: 1.6323 - discriminator_loss: 0.5134\n",
      "Epoch 10/120\n",
      "235/235 [==============================] - 10s 42ms/step - generator_loss: 1.4949 - discriminator_loss: 0.5415\n",
      "Epoch 11/120\n",
      "235/235 [==============================] - 10s 42ms/step - generator_loss: 1.3765 - discriminator_loss: 0.5593\n",
      "Epoch 12/120\n",
      "235/235 [==============================] - 10s 42ms/step - generator_loss: 1.3063 - discriminator_loss: 0.5612\n",
      "Epoch 13/120\n",
      "235/235 [==============================] - 10s 42ms/step - generator_loss: 1.2601 - discriminator_loss: 0.5677\n",
      "Epoch 14/120\n",
      "235/235 [==============================] - 10s 42ms/step - generator_loss: 1.2407 - discriminator_loss: 0.5664\n",
      "Epoch 15/120\n",
      "235/235 [==============================] - 10s 42ms/step - generator_loss: 1.2265 - discriminator_loss: 0.5605\n",
      "Epoch 16/120\n",
      "235/235 [==============================] - 10s 42ms/step - generator_loss: 1.2288 - discriminator_loss: 0.5577\n",
      "Epoch 17/120\n",
      "235/235 [==============================] - 10s 42ms/step - generator_loss: 1.2206 - discriminator_loss: 0.5621\n",
      "Epoch 18/120\n",
      "235/235 [==============================] - 10s 42ms/step - generator_loss: 1.2092 - discriminator_loss: 0.5637\n",
      "Epoch 19/120\n",
      "235/235 [==============================] - 10s 42ms/step - generator_loss: 1.1902 - discriminator_loss: 0.5624\n",
      "Epoch 20/120\n",
      "235/235 [==============================] - 10s 42ms/step - generator_loss: 1.1931 - discriminator_loss: 0.5571\n",
      "Epoch 21/120\n",
      "235/235 [==============================] - 10s 42ms/step - generator_loss: 1.2045 - discriminator_loss: 0.5532\n",
      "Epoch 22/120\n",
      "235/235 [==============================] - 10s 42ms/step - generator_loss: 1.1980 - discriminator_loss: 0.5555\n",
      "Epoch 23/120\n",
      "235/235 [==============================] - 10s 42ms/step - generator_loss: 1.1932 - discriminator_loss: 0.5551\n",
      "Epoch 24/120\n",
      "235/235 [==============================] - 10s 42ms/step - generator_loss: 1.1951 - discriminator_loss: 0.5476\n",
      "Epoch 25/120\n",
      "235/235 [==============================] - 10s 42ms/step - generator_loss: 1.1820 - discriminator_loss: 0.5536\n",
      "Epoch 26/120\n",
      "235/235 [==============================] - 10s 42ms/step - generator_loss: 1.1831 - discriminator_loss: 0.5506\n",
      "Epoch 27/120\n",
      "235/235 [==============================] - 10s 42ms/step - generator_loss: 1.1911 - discriminator_loss: 0.5413\n",
      "Epoch 28/120\n",
      "235/235 [==============================] - 10s 42ms/step - generator_loss: 1.2209 - discriminator_loss: 0.5318\n",
      "Epoch 29/120\n",
      "235/235 [==============================] - 10s 42ms/step - generator_loss: 1.2101 - discriminator_loss: 0.5404\n",
      "Epoch 30/120\n",
      "235/235 [==============================] - 10s 42ms/step - generator_loss: 1.2192 - discriminator_loss: 0.5305\n",
      "Epoch 31/120\n",
      "235/235 [==============================] - 10s 42ms/step - generator_loss: 1.2257 - discriminator_loss: 0.5263\n",
      "Epoch 32/120\n",
      "235/235 [==============================] - 10s 42ms/step - generator_loss: 1.2431 - discriminator_loss: 0.5243\n",
      "Epoch 33/120\n",
      "235/235 [==============================] - 10s 42ms/step - generator_loss: 1.2525 - discriminator_loss: 0.5144\n",
      "Epoch 34/120\n",
      "235/235 [==============================] - 10s 42ms/step - generator_loss: 1.2643 - discriminator_loss: 0.5151\n",
      "Epoch 35/120\n",
      "235/235 [==============================] - 10s 42ms/step - generator_loss: 1.2616 - discriminator_loss: 0.5156\n",
      "Epoch 36/120\n",
      "235/235 [==============================] - 10s 42ms/step - generator_loss: 1.2972 - discriminator_loss: 0.4941\n",
      "Epoch 37/120\n",
      "235/235 [==============================] - 10s 42ms/step - generator_loss: 1.3282 - discriminator_loss: 0.4893\n",
      "Epoch 38/120\n",
      "235/235 [==============================] - 10s 42ms/step - generator_loss: 1.3086 - discriminator_loss: 0.5005\n",
      "Epoch 39/120\n",
      "235/235 [==============================] - 10s 42ms/step - generator_loss: 1.3556 - discriminator_loss: 0.4835\n",
      "Epoch 40/120\n",
      "235/235 [==============================] - 10s 42ms/step - generator_loss: 1.3486 - discriminator_loss: 0.4862\n",
      "Epoch 41/120\n",
      "235/235 [==============================] - 10s 42ms/step - generator_loss: 1.3634 - discriminator_loss: 0.4804\n",
      "Epoch 42/120\n",
      "235/235 [==============================] - 10s 42ms/step - generator_loss: 1.3876 - discriminator_loss: 0.4756\n",
      "Epoch 43/120\n",
      "235/235 [==============================] - 10s 42ms/step - generator_loss: 1.4031 - discriminator_loss: 0.4711\n",
      "Epoch 44/120\n",
      "235/235 [==============================] - 10s 42ms/step - generator_loss: 1.4177 - discriminator_loss: 0.4716\n",
      "Epoch 45/120\n",
      "235/235 [==============================] - 10s 42ms/step - generator_loss: 1.4038 - discriminator_loss: 0.4631\n",
      "Epoch 46/120\n",
      "235/235 [==============================] - 10s 42ms/step - generator_loss: 1.4306 - discriminator_loss: 0.4700\n",
      "Epoch 47/120\n",
      "235/235 [==============================] - 10s 42ms/step - generator_loss: 1.4570 - discriminator_loss: 0.4551\n",
      "Epoch 48/120\n",
      "235/235 [==============================] - 10s 42ms/step - generator_loss: 1.4726 - discriminator_loss: 0.4518\n",
      "Epoch 49/120\n",
      "235/235 [==============================] - 10s 42ms/step - generator_loss: 1.4997 - discriminator_loss: 0.4439\n",
      "Epoch 50/120\n",
      "235/235 [==============================] - 10s 42ms/step - generator_loss: 1.4811 - discriminator_loss: 0.4495\n",
      "Epoch 51/120\n",
      "235/235 [==============================] - 10s 42ms/step - generator_loss: 1.4884 - discriminator_loss: 0.4529\n",
      "Epoch 52/120\n",
      "235/235 [==============================] - 10s 42ms/step - generator_loss: 1.5327 - discriminator_loss: 0.4490\n",
      "Epoch 53/120\n",
      "235/235 [==============================] - 10s 42ms/step - generator_loss: 1.4975 - discriminator_loss: 0.4547\n",
      "Epoch 54/120\n",
      "235/235 [==============================] - 10s 42ms/step - generator_loss: 1.5309 - discriminator_loss: 0.4380\n",
      "Epoch 55/120\n",
      "235/235 [==============================] - 10s 42ms/step - generator_loss: 1.5513 - discriminator_loss: 0.4333\n",
      "Epoch 56/120\n",
      "235/235 [==============================] - 10s 41ms/step - generator_loss: 1.5524 - discriminator_loss: 0.4309\n",
      "Epoch 57/120\n",
      "235/235 [==============================] - 10s 42ms/step - generator_loss: 1.5881 - discriminator_loss: 0.4222\n",
      "Epoch 58/120\n",
      "235/235 [==============================] - 10s 42ms/step - generator_loss: 1.5977 - discriminator_loss: 0.4283\n",
      "Epoch 59/120\n",
      "235/235 [==============================] - 10s 42ms/step - generator_loss: 1.5896 - discriminator_loss: 0.4353\n",
      "Epoch 60/120\n",
      "235/235 [==============================] - 10s 42ms/step - generator_loss: 1.5962 - discriminator_loss: 0.4280\n",
      "Epoch 61/120\n",
      "235/235 [==============================] - 10s 42ms/step - generator_loss: 1.6089 - discriminator_loss: 0.4410\n",
      "Epoch 62/120\n",
      "235/235 [==============================] - 10s 42ms/step - generator_loss: 1.6302 - discriminator_loss: 0.4233\n",
      "Epoch 63/120\n",
      "235/235 [==============================] - 10s 42ms/step - generator_loss: 1.6507 - discriminator_loss: 0.4147\n",
      "Epoch 64/120\n",
      "235/235 [==============================] - 10s 42ms/step - generator_loss: 1.6465 - discriminator_loss: 0.4201\n",
      "Epoch 65/120\n",
      "235/235 [==============================] - 10s 42ms/step - generator_loss: 1.6541 - discriminator_loss: 0.4116\n",
      "Epoch 66/120\n",
      "235/235 [==============================] - 10s 42ms/step - generator_loss: 1.6730 - discriminator_loss: 0.4050\n",
      "Epoch 67/120\n",
      "235/235 [==============================] - 10s 42ms/step - generator_loss: 1.6862 - discriminator_loss: 0.4052\n",
      "Epoch 68/120\n",
      "235/235 [==============================] - 10s 42ms/step - generator_loss: 1.6821 - discriminator_loss: 0.4211\n",
      "Epoch 69/120\n",
      "235/235 [==============================] - 10s 42ms/step - generator_loss: 1.6940 - discriminator_loss: 0.4204\n",
      "Epoch 70/120\n",
      "235/235 [==============================] - 10s 42ms/step - generator_loss: 1.6723 - discriminator_loss: 0.4255\n",
      "Epoch 71/120\n",
      "235/235 [==============================] - 10s 42ms/step - generator_loss: 1.7253 - discriminator_loss: 0.4132\n",
      "Epoch 72/120\n",
      "235/235 [==============================] - 10s 42ms/step - generator_loss: 1.7055 - discriminator_loss: 0.4148\n",
      "Epoch 73/120\n",
      "235/235 [==============================] - 10s 42ms/step - generator_loss: 1.7153 - discriminator_loss: 0.4013\n",
      "Epoch 74/120\n",
      "235/235 [==============================] - 10s 42ms/step - generator_loss: 1.7154 - discriminator_loss: 0.4005\n",
      "Epoch 75/120\n",
      "235/235 [==============================] - 10s 42ms/step - generator_loss: 1.7325 - discriminator_loss: 0.3942\n",
      "Epoch 76/120\n",
      "235/235 [==============================] - 10s 42ms/step - generator_loss: 1.7508 - discriminator_loss: 0.4051\n",
      "Epoch 77/120\n",
      "235/235 [==============================] - 10s 42ms/step - generator_loss: 1.7588 - discriminator_loss: 0.4103\n",
      "Epoch 78/120\n",
      "235/235 [==============================] - 10s 42ms/step - generator_loss: 1.7698 - discriminator_loss: 0.4097\n",
      "Epoch 79/120\n",
      "235/235 [==============================] - 10s 42ms/step - generator_loss: 1.7414 - discriminator_loss: 0.4015\n",
      "Epoch 80/120\n",
      "235/235 [==============================] - 10s 42ms/step - generator_loss: 1.7361 - discriminator_loss: 0.4092\n",
      "Epoch 81/120\n",
      "235/235 [==============================] - 10s 42ms/step - generator_loss: 1.7628 - discriminator_loss: 0.4153\n",
      "Epoch 82/120\n",
      "235/235 [==============================] - 10s 42ms/step - generator_loss: 1.7996 - discriminator_loss: 0.3855\n",
      "Epoch 83/120\n",
      "235/235 [==============================] - 10s 42ms/step - generator_loss: 1.7701 - discriminator_loss: 0.3957\n",
      "Epoch 84/120\n",
      "235/235 [==============================] - 10s 42ms/step - generator_loss: 1.7662 - discriminator_loss: 0.4096\n",
      "Epoch 85/120\n",
      "235/235 [==============================] - 10s 42ms/step - generator_loss: 1.8230 - discriminator_loss: 0.3951\n",
      "Epoch 86/120\n",
      "235/235 [==============================] - 10s 42ms/step - generator_loss: 1.7640 - discriminator_loss: 0.4110\n",
      "Epoch 87/120\n",
      "235/235 [==============================] - 10s 42ms/step - generator_loss: 1.8184 - discriminator_loss: 0.3963\n",
      "Epoch 88/120\n",
      "235/235 [==============================] - 10s 42ms/step - generator_loss: 1.8190 - discriminator_loss: 0.3888\n",
      "Epoch 89/120\n",
      "235/235 [==============================] - 10s 42ms/step - generator_loss: 1.8284 - discriminator_loss: 0.3891\n",
      "Epoch 90/120\n",
      "235/235 [==============================] - 10s 42ms/step - generator_loss: 1.8281 - discriminator_loss: 0.3953\n",
      "Epoch 91/120\n",
      "235/235 [==============================] - 10s 42ms/step - generator_loss: 1.8407 - discriminator_loss: 0.3868\n",
      "Epoch 92/120\n",
      "235/235 [==============================] - 10s 42ms/step - generator_loss: 1.8261 - discriminator_loss: 0.4124\n",
      "Epoch 93/120\n",
      "235/235 [==============================] - 10s 42ms/step - generator_loss: 1.8588 - discriminator_loss: 0.3983\n",
      "Epoch 94/120\n",
      "235/235 [==============================] - 10s 42ms/step - generator_loss: 1.8101 - discriminator_loss: 0.4025\n",
      "Epoch 95/120\n",
      "235/235 [==============================] - 10s 42ms/step - generator_loss: 1.8795 - discriminator_loss: 0.3901\n",
      "Epoch 96/120\n",
      "235/235 [==============================] - 10s 42ms/step - generator_loss: 1.8463 - discriminator_loss: 0.4086\n",
      "Epoch 97/120\n",
      "235/235 [==============================] - 10s 42ms/step - generator_loss: 1.8460 - discriminator_loss: 0.3827\n",
      "Epoch 98/120\n",
      "235/235 [==============================] - 10s 42ms/step - generator_loss: 1.8577 - discriminator_loss: 0.3924\n",
      "Epoch 99/120\n",
      "235/235 [==============================] - 10s 42ms/step - generator_loss: 1.8655 - discriminator_loss: 0.3880\n",
      "Epoch 100/120\n",
      "235/235 [==============================] - 10s 42ms/step - generator_loss: 1.8574 - discriminator_loss: 0.3921\n",
      "Epoch 101/120\n",
      "235/235 [==============================] - 10s 42ms/step - generator_loss: 1.8938 - discriminator_loss: 0.3864\n",
      "Epoch 102/120\n",
      "235/235 [==============================] - 10s 42ms/step - generator_loss: 1.9067 - discriminator_loss: 0.3786\n",
      "Epoch 103/120\n",
      "235/235 [==============================] - 10s 42ms/step - generator_loss: 1.8707 - discriminator_loss: 0.3838\n",
      "Epoch 104/120\n",
      "235/235 [==============================] - 10s 42ms/step - generator_loss: 1.9033 - discriminator_loss: 0.3894\n",
      "Epoch 105/120\n",
      "235/235 [==============================] - 10s 42ms/step - generator_loss: 1.8955 - discriminator_loss: 0.3780\n",
      "Epoch 106/120\n",
      "235/235 [==============================] - 10s 42ms/step - generator_loss: 1.9218 - discriminator_loss: 0.3697\n",
      "Epoch 107/120\n",
      "235/235 [==============================] - 10s 42ms/step - generator_loss: 1.9134 - discriminator_loss: 0.3900\n",
      "Epoch 108/120\n",
      "235/235 [==============================] - 10s 42ms/step - generator_loss: 1.9384 - discriminator_loss: 0.4084\n",
      "Epoch 109/120\n",
      "235/235 [==============================] - 10s 42ms/step - generator_loss: 1.9282 - discriminator_loss: 0.3681\n",
      "Epoch 110/120\n",
      "235/235 [==============================] - 10s 42ms/step - generator_loss: 1.9601 - discriminator_loss: 0.3799\n",
      "Epoch 111/120\n",
      "235/235 [==============================] - 10s 42ms/step - generator_loss: 1.9319 - discriminator_loss: 0.3853\n",
      "Epoch 112/120\n",
      "235/235 [==============================] - 10s 42ms/step - generator_loss: 1.8786 - discriminator_loss: 0.4057\n",
      "Epoch 113/120\n",
      "235/235 [==============================] - 10s 42ms/step - generator_loss: 1.9168 - discriminator_loss: 0.3913\n",
      "Epoch 114/120\n",
      "235/235 [==============================] - 10s 42ms/step - generator_loss: 1.8853 - discriminator_loss: 0.4025\n",
      "Epoch 115/120\n",
      "235/235 [==============================] - 10s 42ms/step - generator_loss: 1.9092 - discriminator_loss: 0.3848\n",
      "Epoch 116/120\n",
      "235/235 [==============================] - 10s 42ms/step - generator_loss: 1.9862 - discriminator_loss: 0.3727\n",
      "Epoch 117/120\n",
      "235/235 [==============================] - 10s 42ms/step - generator_loss: 1.9131 - discriminator_loss: 0.3825\n",
      "Epoch 118/120\n",
      "235/235 [==============================] - 10s 42ms/step - generator_loss: 1.9656 - discriminator_loss: 0.3816\n",
      "Epoch 119/120\n",
      "235/235 [==============================] - 10s 42ms/step - generator_loss: 1.9109 - discriminator_loss: 0.3927\n",
      "Epoch 120/120\n",
      "235/235 [==============================] - 10s 42ms/step - generator_loss: 1.9310 - discriminator_loss: 0.3946\n"
     ]
    }
   ],
   "source": [
    "hist = GAN_model.fit(scaled_dataset, epochs=EPOCHS)"
   ]
  },
  {
   "cell_type": "markdown",
   "id": "a1c854bd",
   "metadata": {},
   "source": [
    "## Evaluating"
   ]
  },
  {
   "cell_type": "code",
   "execution_count": 27,
   "id": "9559aef1",
   "metadata": {
    "execution": {
     "iopub.execute_input": "2023-12-25T17:13:13.862610Z",
     "iopub.status.busy": "2023-12-25T17:13:13.862223Z",
     "iopub.status.idle": "2023-12-25T17:13:14.074718Z",
     "shell.execute_reply": "2023-12-25T17:13:14.073831Z",
     "shell.execute_reply.started": "2023-12-25T17:13:13.862579Z"
    },
    "tags": []
   },
   "outputs": [
    {
     "data": {
      "text/plain": [
       "<matplotlib.legend.Legend at 0x79ffb22149d0>"
      ]
     },
     "execution_count": 27,
     "metadata": {},
     "output_type": "execute_result"
    },
    {
     "data": {
      "image/png": "[encoded data removed]",
      "text/plain": [
       "<Figure size 640x480 with 1 Axes>"
      ]
     },
     "metadata": {},
     "output_type": "display_data"
    }
   ],
   "source": [
    "plt.plot(hist.history['generator_loss'], label='generator loss')\n",
    "plt.plot(hist.history['discriminator_loss'], label='discriminator loss')\n",
    "plt.legend(loc='best')"
   ]
  },
  {
   "cell_type": "markdown",
   "id": "d6feb54a",
   "metadata": {},
   "source": [
    "## Testing"
   ]
  },
  {
   "cell_type": "code",
   "execution_count": 35,
   "id": "fed53940",
   "metadata": {
    "execution": {
     "iopub.execute_input": "2023-12-25T17:14:51.914064Z",
     "iopub.status.busy": "2023-12-25T17:14:51.913120Z",
     "iopub.status.idle": "2023-12-25T17:14:55.929468Z",
     "shell.execute_reply": "2023-12-25T17:14:55.928499Z",
     "shell.execute_reply.started": "2023-12-25T17:14:51.914025Z"
    },
    "tags": []
   },
   "outputs": [
    {
     "name": "stdout",
     "output_type": "stream",
     "text": [
      "1/1 [==============================] - 0s 19ms/step\n",
      "1/1 [==============================] - 0s 18ms/step\n"
     ]
    },
    {
     "data": {
      "image/png": "[encoded data removed]",
      "text/plain": [
       "<Figure size 1200x1400 with 25 Axes>"
      ]
     },
     "metadata": {},
     "output_type": "display_data"
    }
   ],
   "source": [
    "noise = tf.random.normal((25, NOISE_DIM, 1))\n",
    "generated_images = generator_model.predict(noise)\n",
    "predicted_lables = discriminator_model.predict(generated_images)\n",
    "predictions = tf.nn.sigmoid(predicted_lables).numpy()\n",
    "\n",
    "figure, axis = plt.subplots(ncols=5, nrows=5, figsize=(12,14))\n",
    "for row in range(5): \n",
    "    for col in range(5): \n",
    "        axis[row][col].imshow(generated_images[(row + 1) * (col + 1) - 1])\n",
    "        axis[row][col].title.set_text(predictions[(row + 1) * (col + 1) - 1][0])"
   ]
  },
  {
   "cell_type": "code",
   "execution_count": 36,
   "id": "5b00378a",
   "metadata": {
    "execution": {
     "iopub.execute_input": "2023-12-25T17:15:13.891822Z",
     "iopub.status.busy": "2023-12-25T17:15:13.890627Z",
     "iopub.status.idle": "2023-12-25T17:15:13.945061Z",
     "shell.execute_reply": "2023-12-25T17:15:13.943992Z",
     "shell.execute_reply.started": "2023-12-25T17:15:13.891772Z"
    }
   },
   "outputs": [],
   "source": [
    "generator_model.save('generator_model.h5')"
   ]
  },
  {
   "cell_type": "code",
   "execution_count": null,
   "id": "cd7d57cd",
   "metadata": {},
   "outputs": [],
   "source": []
  }
 ],
 "metadata": {
  "kaggle": {
   "accelerator": "gpu",
   "dataSources": [],
   "dockerImageVersionId": 30627,
   "isGpuEnabled": true,
   "isInternetEnabled": true,
   "language": "python",
   "sourceType": "notebook"
  },
  "kernelspec": {
   "display_name": "Python 3 (ipykernel)",
   "language": "python",
   "name": "python3"
  },
  "language_info": {
   "codemirror_mode": {
    "name": "ipython",
    "version": 3
   },
   "file_extension": ".py",
   "mimetype": "text/x-python",
   "name": "python",
   "nbconvert_exporter": "python",
   "pygments_lexer": "ipython3",
   "version": "3.11.5"
  }
 },
 "nbformat": 4,
 "nbformat_minor": 5
}
